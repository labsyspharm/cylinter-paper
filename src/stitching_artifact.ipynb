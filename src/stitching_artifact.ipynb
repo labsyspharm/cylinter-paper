{
 "cells": [
  {
   "cell_type": "code",
   "execution_count": 1,
   "id": "5d3ca6d5-4cb0-4d68-aeea-e99a2e94fd90",
   "metadata": {},
   "outputs": [],
   "source": [
    "import os\n",
    "import napari\n",
    "import matplotlib.pyplot as plt\n",
    "from tifffile import imread"
   ]
  },
  {
   "cell_type": "code",
   "execution_count": 2,
   "id": "1613b29c-db6d-4afb-bdf2-b97d73e4dc80",
   "metadata": {},
   "outputs": [],
   "source": [
    "core = '16'"
   ]
  },
  {
   "cell_type": "code",
   "execution_count": 3,
   "id": "d10c74ac-c211-4bde-b92f-74fce9c49cde",
   "metadata": {},
   "outputs": [],
   "source": [
    "save_dir = (\n",
    "    '/Users/greg/Dropbox (HMS)/Baker_QC_2021/script_output/' +\n",
    "    'stitching_artifact'\n",
    "    )\n",
    "if not os.path.exists(save_dir):\n",
    "    os.makedirs(save_dir)\n",
    "\n",
    "# crop coordinates\n",
    "ymin = 1730\n",
    "ymax = 1930\n",
    "xmin = 1015\n",
    "xmax = 1415"
   ]
  },
  {
   "cell_type": "code",
   "execution_count": 4,
   "id": "8a223196-531d-4641-b264-20e9f39ca1d2",
   "metadata": {},
   "outputs": [
    {
     "name": "stderr",
     "output_type": "stream",
     "text": [
      "/Users/greg/cylinter/lib/python3.8/site-packages/napari/_vispy/vispy_camera.py:109: RuntimeWarning: divide by zero encountered in true_divide\n",
      "  zoom = np.min(canvas_size / scale)\n"
     ]
    }
   ],
   "source": [
    "# read cycle1 DNA for selected tissue and crop to target size\n",
    "dna = imread(\n",
    "    f'/Volumes/My Book/cylinter_input/emit22_full/tif/{core}.ome.tif',\n",
    "    key=0\n",
    "    )\n",
    "dna_crop = dna[ymin:ymax, xmin:xmax]\n",
    "\n",
    "# read segmentation outlines\n",
    "seg = imread(\n",
    "    f'/Volumes/My Book/cylinter_input/emit22_full/seg/{core}.ome.tif',\n",
    "    key=0\n",
    "    )\n",
    "seg_crop = seg[ymin:ymax, xmin:xmax]\n",
    "\n",
    "\n",
    "viewer = napari.view_image(\n",
    "    dna, rgb=False, name='DNA1'\n",
    "    )\n",
    "\n",
    "viewer.add_image(\n",
    "    seg, rgb=False, blending='additive',\n",
    "    opacity=0.5, colormap='gray', visible=False,\n",
    "    name='segmentation'\n",
    "    )\n",
    "\n",
    "napari.run()\n",
    "\n",
    "file = open(os.path.join(save_dir, 'check_desktop.txt'), 'w')\n",
    "file.write('Check for screen shot on desktop.')\n",
    "file.close()"
   ]
  }
 ],
 "metadata": {
  "kernelspec": {
   "display_name": "Python 3 (ipykernel)",
   "language": "python",
   "name": "python3"
  },
  "language_info": {
   "codemirror_mode": {
    "name": "ipython",
    "version": 3
   },
   "file_extension": ".py",
   "mimetype": "text/x-python",
   "name": "python",
   "nbconvert_exporter": "python",
   "pygments_lexer": "ipython3",
   "version": "3.8.5"
  }
 },
 "nbformat": 4,
 "nbformat_minor": 5
}

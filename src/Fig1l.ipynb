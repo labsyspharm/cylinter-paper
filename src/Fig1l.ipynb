{
 "cells": [
  {
   "cell_type": "code",
   "execution_count": 1,
   "id": "51eb87e7-8723-4816-9eda-2c5c370464b5",
   "metadata": {},
   "outputs": [],
   "source": [
    "import os\n",
    "import pandas as pd\n",
    "import napari\n",
    "from tifffile import imread"
   ]
  },
  {
   "cell_type": "code",
   "execution_count": 2,
   "id": "3e46aa96-095f-4912-adf1-21c774ec73ae",
   "metadata": {},
   "outputs": [],
   "source": [
    "core = '64'\n",
    "dna1 = f'DNA1:{core}'"
   ]
  },
  {
   "cell_type": "code",
   "execution_count": 3,
   "id": "9bec1225-2f6d-4de7-970e-d5681c1572c9",
   "metadata": {},
   "outputs": [],
   "source": [
    "markers = pd.read_csv('../input/Dataset3(TMA)/markers.csv')\n",
    "\n",
    "# read DNA1 channel\n",
    "dna = imread(f'../input/Dataset3(TMA)/tif/{core}.ome.tif', key=0)\n",
    "\n",
    "pcreb_channel_number = markers['channel_number'][markers['marker_name'] == 'pCREB']\n",
    "pcreb = imread(\n",
    "    f'../input/Dataset3(TMA)/tif/{core}.ome.tif',\n",
    "    key=pcreb_channel_number.item() - 1\n",
    "    )\n",
    "\n",
    "# read segmentation outlines\n",
    "seg = imread(f'../input/Dataset3(TMA)/seg/{core}.ome.tif', key=0)\n",
    "\n",
    "viewer = napari.view_image(dna, rgb=False, name=dna1)\n",
    "\n",
    "viewer.add_image(\n",
    "    seg, rgb=False, blending='additive',\n",
    "    opacity=0.5, colormap='red', visible=False,\n",
    "    name='segmentation'\n",
    "    )\n",
    "\n",
    "viewer.add_image(\n",
    "    pcreb, rgb=False, blending='additive',\n",
    "    opacity=1.0, colormap='green', visible=True,\n",
    "    name='pCREB'\n",
    "    )\n",
    "\n",
    "napari.run()"
   ]
  }
 ],
 "metadata": {
  "kernelspec": {
   "display_name": "Python 3 (ipykernel)",
   "language": "python",
   "name": "python3"
  },
  "language_info": {
   "codemirror_mode": {
    "name": "ipython",
    "version": 3
   },
   "file_extension": ".py",
   "mimetype": "text/x-python",
   "name": "python",
   "nbconvert_exporter": "python",
   "pygments_lexer": "ipython3",
   "version": "3.11.5"
  }
 },
 "nbformat": 4,
 "nbformat_minor": 5
}

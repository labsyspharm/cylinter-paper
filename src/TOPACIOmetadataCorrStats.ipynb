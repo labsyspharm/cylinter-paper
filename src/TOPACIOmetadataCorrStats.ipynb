{
 "cells": [
  {
   "cell_type": "code",
   "execution_count": 1,
   "id": "cbb70ea7-6a02-458e-882a-fba7c3e6100e",
   "metadata": {},
   "outputs": [],
   "source": [
    "import pandas as pd\n",
    "\n",
    "from scipy.stats import f_oneway\n",
    "from statsmodels.stats.multicomp import pairwise_tukeyhsd"
   ]
  },
  {
   "cell_type": "code",
   "execution_count": 2,
   "id": "fd7e3fed-c25d-4999-ae2d-f66c9445cf02",
   "metadata": {},
   "outputs": [],
   "source": [
    "biopsy_method = {\n",
    "    '127': 'gross', '39': 'gross', '128': 'gross',\n",
    "    '81': 'gross', '106': 'gross', '115': 'gross',\n",
    "    '48': 'gross', '66': 'punch', '91': 'gross',\n",
    "    '152': 'gross', '104': 'gross', '86': 'gross',\n",
    "    '83': 'gross', '53': 'gross', '89': 'fine',\n",
    "    '110': 'gross', '40': 'gross', '73': 'punch',\n",
    "    '70': 'fine', '55': 'gross', '125': 'gross',\n",
    "    '124': 'gross', '95': 'fine', '31': 'punch',\n",
    "    '96': 'fine'\n",
    "}"
   ]
  },
  {
   "cell_type": "code",
   "execution_count": 3,
   "id": "4626f5f8-1e97-4cb7-b3ca-0775bf5a2bbb",
   "metadata": {},
   "outputs": [],
   "source": [
    "meta = pd.read_csv(\n",
    "    '/Users/greg/Dropbox (HMS)/Baker_QC_2021/nat_methods_submission/REVISION/figures_tables/'\n",
    "    'online_figs/TOPACIOTiles/metadata.csv'\n",
    ")\n",
    "meta['Subject'] = [i.split('_')[1].lstrip('0') for i in meta['Subject']]\n",
    "\n",
    "meta = meta[meta['Subject'].isin(biopsy_method.keys())].copy()\n",
    "\n",
    "meta['BOR'] = [\n",
    "    'ND' if i in ['Not Done', 'Not Evaluable']\n",
    "    else 'progression' if i in ['SD', 'PD'] \n",
    "    else 'response' if i in ['PR', 'CR'] \n",
    "    else i for i in meta['Confirmed BOR']\n",
    "]\n",
    "\n",
    "meta['biopsy_method'] = [biopsy_method[i] for i in meta['Subject']]\n",
    "\n",
    "meta = meta[['Subject', 'biopsy_method', 'BOR']]"
   ]
  },
  {
   "cell_type": "code",
   "execution_count": 4,
   "id": "095bd7b0-a645-4563-b691-fd00ff6ffa38",
   "metadata": {},
   "outputs": [],
   "source": [
    "counts = pd.read_csv(\n",
    "    '/Users/greg/Dropbox (HMS)/Baker_QC_2021/nat_methods_submission/REVISION/figures_tables/'\n",
    "    'online_figs/TOPACIOTiles/counts.csv'\n",
    ")\n",
    "counts['sample'] = counts['sample'].astype('str')\n",
    "counts.rename(columns={'sample': 'Subject'}, inplace=True)\n",
    "counts = counts[['Subject', 'tile_count']]"
   ]
  },
  {
   "cell_type": "code",
   "execution_count": 5,
   "id": "dbfc8e74-9514-4c73-b0b5-0dedca7fe0ee",
   "metadata": {},
   "outputs": [],
   "source": [
    "res = counts.merge(meta, how='inner', on='Subject')"
   ]
  },
  {
   "cell_type": "code",
   "execution_count": 6,
   "id": "fab89e55-06ff-45ad-a145-c36602bf59c2",
   "metadata": {},
   "outputs": [
    {
     "name": "stdout",
     "output_type": "stream",
     "text": [
      "Biopsy method results:\n",
      "F-statistic: 10.267888428837896\n",
      "P-value: 0.0007085188841202632\n",
      "\n",
      "  Multiple Comparison of Means - Tukey HSD, FWER=0.05  \n",
      "=======================================================\n",
      "group1 group2 meandiff p-adj    lower    upper   reject\n",
      "-------------------------------------------------------\n",
      "  fine  gross 204.8333 0.0145   37.9077  371.759   True\n",
      "  fine  punch -78.1667 0.6758 -308.8076 152.4742  False\n",
      " gross  punch   -283.0 0.0029 -471.3175 -94.6825   True\n",
      "-------------------------------------------------------\n",
      "\n"
     ]
    }
   ],
   "source": [
    "# perform statistics analysis for biopsy method\n",
    "\n",
    "fine, gross, punch = res.groupby('biopsy_method')['tile_count']\n",
    "\n",
    "f_stat, p_value = f_oneway(fine[1].values, gross[1].values, punch[1].values)\n",
    "\n",
    "print('Biopsy method results:')\n",
    "print('F-statistic:', f_stat)\n",
    "print('P-value:', p_value)\n",
    "print()\n",
    "\n",
    "all_data = fine[1].values.tolist() + gross[1].values.tolist() + punch[1].values.tolist()\n",
    "labels = (\n",
    "    ['fine'] * len(fine[1].values) +\n",
    "    ['gross'] * len(gross[1].values) +\n",
    "    ['punch'] * len(punch[1].values)\n",
    ")\n",
    "\n",
    "tukey_results = pairwise_tukeyhsd(all_data, labels)\n",
    "\n",
    "print(tukey_results)\n",
    "print()"
   ]
  },
  {
   "cell_type": "code",
   "execution_count": 7,
   "id": "67a50b75-7296-462b-9957-f4b0ebcfcf1b",
   "metadata": {},
   "outputs": [
    {
     "name": "stdout",
     "output_type": "stream",
     "text": [
      "Treatment response results:\n",
      "F-statistic: 0.4047792432572477\n",
      "P-value: 0.6719915635694808\n",
      "\n",
      "       Multiple Comparison of Means - Tukey HSD, FWER=0.05       \n",
      "=================================================================\n",
      "   group1      group2   meandiff p-adj    lower    upper   reject\n",
      "-----------------------------------------------------------------\n",
      "         ND progression -76.2667 0.6462 -289.2183  136.685  False\n",
      "         ND    response    -58.2 0.8422 -319.0115 202.6115  False\n",
      "progression    response  18.0667 0.9753  -194.885 231.0183  False\n",
      "-----------------------------------------------------------------\n"
     ]
    }
   ],
   "source": [
    "# perform statistics analysis for treament response\n",
    "\n",
    "nd, prog, resp = res.groupby('BOR')['tile_count']\n",
    "\n",
    "f_stat, p_value = f_oneway(nd[1].values, prog[1].values, resp[1].values)\n",
    "\n",
    "print('Treatment response results:')\n",
    "print('F-statistic:', f_stat)\n",
    "print('P-value:', p_value)\n",
    "print()\n",
    "\n",
    "all_data = nd[1].values.tolist() + prog[1].values.tolist() + resp[1].values.tolist()\n",
    "labels = (\n",
    "    ['ND'] * len(nd[1].values) +\n",
    "    ['progression'] * len(prog[1].values) +\n",
    "    ['response'] * len(resp[1].values)\n",
    ")\n",
    "\n",
    "tukey_results = pairwise_tukeyhsd(all_data, labels)\n",
    "\n",
    "print(tukey_results)"
   ]
  }
 ],
 "metadata": {
  "kernelspec": {
   "display_name": "Python 3 (ipykernel)",
   "language": "python",
   "name": "python3"
  },
  "language_info": {
   "codemirror_mode": {
    "name": "ipython",
    "version": 3
   },
   "file_extension": ".py",
   "mimetype": "text/x-python",
   "name": "python",
   "nbconvert_exporter": "python",
   "pygments_lexer": "ipython3",
   "version": "3.11.5"
  }
 },
 "nbformat": 4,
 "nbformat_minor": 5
}

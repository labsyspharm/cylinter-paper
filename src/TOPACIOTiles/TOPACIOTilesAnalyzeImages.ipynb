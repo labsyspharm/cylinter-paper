{
 "cells": [
  {
   "cell_type": "code",
   "execution_count": null,
   "id": "fb163884-1f8c-4029-babe-193061bbaf0c",
   "metadata": {},
   "outputs": [],
   "source": [
    "import os\n",
    "import pandas as pd\n",
    "import numpy as np\n",
    "import matplotlib.pyplot as plt\n",
    "from matplotlib.patches import Patch"
   ]
  },
  {
   "cell_type": "code",
   "execution_count": null,
   "id": "8ae230b7-13be-486b-bc59-127fb7123f4d",
   "metadata": {},
   "outputs": [],
   "source": [
    "save_dir = (\n",
    "    '/Users/greg/Dropbox (HMS)/Baker_QC_2021/script_output/last_minute_figures'\n",
    "    '/topacio_tiles')\n",
    "if not os.path.exists(save_dir):\n",
    "    os.makedirs(save_dir)\n",
    "\n",
    "df = pd.read_csv(\n",
    "    '/Users/greg/Dropbox (HMS)/Baker_QC_2021/topacio_tiles/counts.csv'\n",
    ")\n",
    "percents = df.iloc[:, 2:].div(df['tile_count'], axis=0) * 100\n",
    "percents.index = df['sample'].astype('str')\n",
    "\n",
    "# sort samples by number of tiles affected by artifacts \n",
    "percents = percents.reindex(percents.sum(axis=1).sort_values().index)\n",
    "\n",
    "print(f\"Total tiles = {df['tile_count'].sum()*len(percents.columns)}\")\n",
    "\n",
    "tiles_w_artifacts = df.iloc[:, 2:].sum(axis=0).sum()\n",
    "total_tiles = df['tile_count'].sum() * len(percents.columns)\n",
    "print(\n",
    "    f'Fraction of tiles with artifacts = {round((tiles_w_artifacts/total_tiles)*100, 2)}%'\n",
    ")"
   ]
  },
  {
   "cell_type": "code",
   "execution_count": null,
   "id": "fe79690e-64da-433e-bf17-c89b6f85e9f6",
   "metadata": {},
   "outputs": [],
   "source": [
    "fig, ax = plt.subplots(figsize=(10, 5))\n",
    "\n",
    "indexes = np.argsort(percents.values).T\n",
    "heights = np.sort(percents.values).T\n",
    "order = -1\n",
    "bottoms = heights[::order].cumsum(axis=0)\n",
    "bottoms = np.insert(bottoms, 0, np.zeros(len(bottoms[0])), axis=0)\n",
    "cmap = plt.get_cmap('tab20')\n",
    "cmap = [i for i in cmap.colors]\n",
    "mpp_colors = dict(zip(percents.columns, cmap))\n",
    "\n",
    "for btms, (idxs, vals) in enumerate(list(zip(indexes, heights))[::order]):\n",
    "    mps = np.take(np.array(percents.columns), idxs)\n",
    "    ax.bar(\n",
    "        x=percents.index, height=vals, width=0.9, lw=0.0,\n",
    "        bottom=bottoms[btms], color=[mpp_colors[m] for m in mps]\n",
    "    )\n",
    "ax.set_xlabel('Sample ID', size=15, labelpad=10)\n",
    "ax.set_ylabel(\n",
    "    'Percentage of tiles with artifacts', size=13,\n",
    "    labelpad=13, c='k'\n",
    ")\n",
    "ax.tick_params(axis='x', which='major', labelsize=9)\n",
    "ax.margins(x=0)\n",
    "\n",
    "markers = [\n",
    "    Patch(facecolor=color, edgecolor=None) for color in mpp_colors.values()\n",
    "]\n",
    "plt.legend(\n",
    "    markers, mpp_colors.keys(), title='Markers', prop={'size': 10.5},\n",
    "    labelspacing=0.01, loc='upper left', bbox_to_anchor=(1.0, 1.01)\n",
    ")\n",
    "plt.tight_layout()\n",
    "plt.savefig(os.path.join(save_dir, 'topacio_tiles.pdf'))\n",
    "plt.show()\n",
    "plt.close('all')"
   ]
  },
  {
   "cell_type": "code",
   "execution_count": null,
   "id": "2fc60cd3-a917-4f6a-9eaf-bb62e3e09dc0",
   "metadata": {},
   "outputs": [],
   "source": [
    "# mean percentage of tiles with artifacts per channel\n",
    "fig, ax = plt.subplots(figsize=(3, 5))\n",
    "bar_input = percents.mean().sort_values(ascending=True)\n",
    "ax.barh(bar_input.index, bar_input, color='k')\n",
    "ax.set_xlabel('Mean % tiles with artifacts', size=10, labelpad=10)\n",
    "plt.tight_layout()\n",
    "plt.savefig(os.path.join(save_dir, 'topacio_bar.pdf'))\n",
    "plt.show()\n",
    "plt.close('all')"
   ]
  }
 ],
 "metadata": {
  "kernelspec": {
   "display_name": "Python 3 (ipykernel)",
   "language": "python",
   "name": "python3"
  },
  "language_info": {
   "codemirror_mode": {
    "name": "ipython",
    "version": 3
   },
   "file_extension": ".py",
   "mimetype": "text/x-python",
   "name": "python",
   "nbconvert_exporter": "python",
   "pygments_lexer": "ipython3",
   "version": "3.11.5"
  }
 },
 "nbformat": 4,
 "nbformat_minor": 5
}

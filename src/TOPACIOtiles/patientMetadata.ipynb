{
 "cells": [
  {
   "cell_type": "code",
   "execution_count": null,
   "id": "3043fea6-adc6-46cc-ab62-4f79d931660d",
   "metadata": {},
   "outputs": [],
   "source": [
    "import pandas as pd"
   ]
  },
  {
   "cell_type": "code",
   "execution_count": null,
   "id": "2bc05edc-7ff9-4204-87d7-f8249bddb84a",
   "metadata": {},
   "outputs": [],
   "source": [
    "# import patient metadata\n",
    "md = pd.read_csv('/Users/greg/Dropbox (HMS)/topacio/metadata/patient/metadata.csv')\n",
    "# set Subject column as index\n",
    "md.set_index('Subject', inplace=True)\n",
    "# abbreviate not-evaluable BORs as 'ND'\n",
    "md['Confirmed BOR'] = [\n",
    "    'ND' if i in ['Not Done', 'Not Evaluable'] else\n",
    "    i for i in md['Confirmed BOR']\n",
    "]\n",
    "\n",
    "# abbreviate BRCA statuses\n",
    "md['BRCA'] = [\n",
    "    i.split('-')[1] if '-' in i else\n",
    "    i for i in md['BRCA']\n",
    "]\n",
    "\n",
    "md.index = [i.split('_')[1].lstrip('0') for i in md.index]\n",
    "\n",
    "md['binary_response'] = [\n",
    "    'response' if i in ['CR', 'PR'] else 'progression' if i in ['SD', 'PD'] else \n",
    "    i for i in md['Confirmed BOR']\n",
    "]\n",
    "\n",
    "# myorder = [\n",
    "#     '39', '40', '89', '73', '81', '104', '127', '66', '55', '70', '110', '31', '48', '53', '96',\n",
    "#     '125', '91', '83', '86', '95', '124', '128', '106', '152', '115'\n",
    "# ]\n",
    "myorder = [\n",
    "    '127', '39', '128', '81', '106', '115', '48', '66', '91', '152', '104', '86', '83',\n",
    "    '53', '89', '110', '40', '73', '70', '55', '125', '124', '95', '31', '96'\n",
    "]\n",
    "md = md[md.index.isin(myorder)]\n",
    "md_sorted = md.reindex(myorder)"
   ]
  }
 ],
 "metadata": {
  "kernelspec": {
   "display_name": "Python 3 (ipykernel)",
   "language": "python",
   "name": "python3"
  },
  "language_info": {
   "codemirror_mode": {
    "name": "ipython",
    "version": 3
   },
   "file_extension": ".py",
   "mimetype": "text/x-python",
   "name": "python",
   "nbconvert_exporter": "python",
   "pygments_lexer": "ipython3",
   "version": "3.11.5"
  }
 },
 "nbformat": 4,
 "nbformat_minor": 5
}

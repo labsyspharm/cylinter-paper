{
 "cells": [
  {
   "cell_type": "code",
   "execution_count": 1,
   "id": "84b1e5e3-f6ae-4e1e-bd1e-45a2dfdbb74d",
   "metadata": {},
   "outputs": [],
   "source": [
    "import pandas as pd\n",
    "\n",
    "from scipy.stats import f_oneway\n",
    "from statsmodels.stats.multicomp import pairwise_tukeyhsd"
   ]
  },
  {
   "cell_type": "code",
   "execution_count": 2,
   "id": "f545f37b-ea76-4829-a662-3c6499e8e8f1",
   "metadata": {},
   "outputs": [],
   "source": [
    "biopsy_method = {\n",
    "    '127': 'gross', '39': 'gross', '128': 'gross',\n",
    "    '81': 'gross', '106': 'gross', '115': 'gross',\n",
    "    '48': 'gross', '66': 'punch', '91': 'gross',\n",
    "    '152': 'gross', '104': 'gross', '86': 'gross',\n",
    "    '83': 'gross', '53': 'gross', '89': 'fine',\n",
    "    '110': 'gross', '40': 'gross', '73': 'punch',\n",
    "    '70': 'fine', '55': 'gross', '125': 'gross',\n",
    "    '124': 'gross', '95': 'fine', '31': 'punch',\n",
    "    '96': 'fine'\n",
    "}"
   ]
  },
  {
   "cell_type": "code",
   "execution_count": 3,
   "id": "9053c728-6207-4eb7-b1da-f0f68d60b9d2",
   "metadata": {},
   "outputs": [],
   "source": [
    "# read raw and clean TOPACIO data to isolate redacted cells\n",
    "df_raw = pd.read_parquet(\n",
    "    '/Users/greg/Dropbox (HMS)/topacio/cylinter_output/TOPACIO_FINAL/' +\n",
    "    'output_raw/checkpoints/aggregateData.parquet'\n",
    ")\n",
    "df_raw['Subject'] = [i.split('_')[1].lstrip('0') for i in df_raw['Sample']]\n",
    "df_raw['unique_id'] = df_raw['CellID'].astype('str') + '_' + df_raw['Subject']\n",
    "\n",
    "df_clean = pd.read_parquet(\n",
    "    '/Users/greg/Dropbox (HMS)/topacio/cylinter_output/TOPACIO_FINAL/' +\n",
    "    'output_orig/checkpoints/clustering.parquet'\n",
    ")\n",
    "df_clean['Subject'] = [i.split('_')[1].lstrip('0') for i in df_clean['Sample']]\n",
    "df_clean['unique_id'] = df_clean['CellID'].astype('str') + '_' + df_clean['Subject']\n",
    "\n",
    "mask = df_raw['unique_id'].isin(df_clean['unique_id'])\n",
    "df_dropped = df_raw[~mask]"
   ]
  },
  {
   "cell_type": "code",
   "execution_count": 4,
   "id": "bff25eba-2c05-4d0b-a8e0-cfeaf1f16325",
   "metadata": {},
   "outputs": [],
   "source": [
    "# format metadata\n",
    "meta = pd.read_csv(\n",
    "    '/Users/greg/Dropbox (HMS)/Baker_QC_2021/nat_methods_submission/REVISION/figures_tables/'\n",
    "    'online_figs/TOPACIOTiles/metadata.csv'\n",
    ")\n",
    "meta['Subject'] = [i.split('_')[1].lstrip('0') for i in meta['Subject']]\n",
    "\n",
    "meta = meta[meta['Subject'].isin(biopsy_method.keys())].copy()\n",
    "\n",
    "meta['biopsy_method'] = [biopsy_method[i] for i in meta['Subject']]\n",
    "\n",
    "meta['BOR'] = [\n",
    "    'ND' if i in ['Not Done', 'Not Evaluable']\n",
    "    else 'progression' if i in ['SD', 'PD'] \n",
    "    else 'response' if i in ['PR', 'CR'] \n",
    "    else i for i in meta['Confirmed BOR']\n",
    "]\n",
    "\n",
    "meta = meta[['Subject', 'biopsy_method', 'BOR']]"
   ]
  },
  {
   "cell_type": "code",
   "execution_count": 5,
   "id": "371ac72a-df69-44a0-9191-126b55b74783",
   "metadata": {},
   "outputs": [],
   "source": [
    "# compute percentage of redacted cells per sample\n",
    "total = df_raw.merge(meta, on='Subject', how='left')\n",
    "total_counts = total.groupby(['Subject', 'biopsy_method', 'BOR']).size()\n",
    "\n",
    "dropped_counts = df_dropped.merge(meta, on='Subject', how='left')\n",
    "dropped_counts = dropped_counts.groupby(['Subject', 'biopsy_method', 'BOR']).size()\n",
    "\n",
    "percent_dropped = (dropped_counts / total_counts) * 100"
   ]
  },
  {
   "cell_type": "code",
   "execution_count": 6,
   "id": "8c149751-b2e8-45b8-a450-c1c83161a9df",
   "metadata": {},
   "outputs": [
    {
     "name": "stdout",
     "output_type": "stream",
     "text": [
      "Biopsy method results:\n",
      "Means:\n",
      "biopsy_method\n",
      "fine     91.916033\n",
      "gross    83.086367\n",
      "punch    90.778243\n",
      "dtype: float64\n",
      "F-statistic: 1.9266000786072355\n",
      "P-value: 0.1694306961066134\n",
      "\n",
      " Multiple Comparison of Means - Tukey HSD, FWER=0.05 \n",
      "=====================================================\n",
      "group1 group2 meandiff p-adj   lower    upper  reject\n",
      "-----------------------------------------------------\n",
      "  fine  gross  -8.8297 0.2393 -22.1196  4.4602  False\n",
      "  fine  punch  -1.1378 0.9867 -19.5004 17.2249  False\n",
      " gross  punch   7.6919 0.4162  -7.3012 22.6849  False\n",
      "-----------------------------------------------------\n",
      "\n"
     ]
    }
   ],
   "source": [
    "# run stats to compare percentage of unclustered cells with biopsy method\n",
    "fine, gross, punch = percent_dropped.groupby(['biopsy_method'])\n",
    "\n",
    "f_stat, p_value = f_oneway(fine[1].values, gross[1].values, punch[1].values)\n",
    "\n",
    "print('Biopsy method results:')\n",
    "print('Means:')\n",
    "print(percent_dropped.groupby(['biopsy_method']).mean())\n",
    "print('F-statistic:', f_stat)\n",
    "print('P-value:', p_value)\n",
    "print()\n",
    "\n",
    "all_data = fine[1].values.tolist() + gross[1].values.tolist() + punch[1].values.tolist()\n",
    "labels = (\n",
    "    ['fine'] * len(fine[1].values) +\n",
    "    ['gross'] * len(gross[1].values) +\n",
    "    ['punch'] * len(punch[1].values)\n",
    ")\n",
    "\n",
    "tukey_results = pairwise_tukeyhsd(all_data, labels)\n",
    "\n",
    "print(tukey_results)\n",
    "print()"
   ]
  },
  {
   "cell_type": "code",
   "execution_count": 7,
   "id": "e1cdeb8e-e9b0-4b56-b376-fb5b65ac6704",
   "metadata": {},
   "outputs": [
    {
     "name": "stdout",
     "output_type": "stream",
     "text": [
      "Treatment response results:\n",
      "Means:\n",
      "BOR\n",
      "ND             89.064303\n",
      "progression    83.507845\n",
      "response       87.522855\n",
      "dtype: float64\n",
      "F-statistic: 0.7088144396944022\n",
      "P-value: 0.5031267165404523\n",
      "\n",
      "      Multiple Comparison of Means - Tukey HSD, FWER=0.05      \n",
      "===============================================================\n",
      "   group1      group2   meandiff p-adj   lower    upper  reject\n",
      "---------------------------------------------------------------\n",
      "         ND progression  -5.5565 0.5421 -18.6016  7.4886  False\n",
      "         ND    response  -1.5414 0.9682 -17.5184 14.4355  False\n",
      "progression    response    4.015  0.723  -9.0301 17.0601  False\n",
      "---------------------------------------------------------------\n"
     ]
    }
   ],
   "source": [
    "# run stats to compare percentage of unclustered cells with treatment response\n",
    "nd, prog, resp = percent_dropped.groupby(['BOR'])\n",
    "\n",
    "f_stat, p_value = f_oneway(nd[1].values, prog[1].values, resp[1].values)\n",
    "\n",
    "print('Treatment response results:')\n",
    "print('Means:')\n",
    "print(percent_dropped.groupby(['BOR']).mean())\n",
    "print('F-statistic:', f_stat)\n",
    "print('P-value:', p_value)\n",
    "print()\n",
    "\n",
    "all_data = nd[1].values.tolist() + prog[1].values.tolist() + resp[1].values.tolist()\n",
    "labels = (\n",
    "    ['ND'] * len(nd[1].values) +\n",
    "    ['progression'] * len(prog[1].values) +\n",
    "    ['response'] * len(resp[1].values)\n",
    ")\n",
    "\n",
    "tukey_results = pairwise_tukeyhsd(all_data, labels)\n",
    "\n",
    "print(tukey_results)"
   ]
  },
  {
   "cell_type": "code",
   "execution_count": null,
   "id": "88257d7b-e3f2-4c2d-8281-b7ddbaebcd4c",
   "metadata": {},
   "outputs": [],
   "source": []
  }
 ],
 "metadata": {
  "kernelspec": {
   "display_name": "Python 3 (ipykernel)",
   "language": "python",
   "name": "python3"
  },
  "language_info": {
   "codemirror_mode": {
    "name": "ipython",
    "version": 3
   },
   "file_extension": ".py",
   "mimetype": "text/x-python",
   "name": "python",
   "nbconvert_exporter": "python",
   "pygments_lexer": "ipython3",
   "version": "3.11.5"
  }
 },
 "nbformat": 4,
 "nbformat_minor": 5
}

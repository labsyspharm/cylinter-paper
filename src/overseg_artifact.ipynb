{
 "cells": [
  {
   "cell_type": "code",
   "execution_count": 1,
   "id": "18bf42fb-739b-431a-975a-53b00d70146b",
   "metadata": {},
   "outputs": [],
   "source": [
    "import os\n",
    "import matplotlib.pyplot as plt\n",
    "from tifffile import imread\n",
    "import napari"
   ]
  },
  {
   "cell_type": "code",
   "execution_count": 2,
   "id": "597cd406-423d-45b0-8513-491dee64f3e2",
   "metadata": {},
   "outputs": [],
   "source": [
    "core = '15'"
   ]
  },
  {
   "cell_type": "code",
   "execution_count": 3,
   "id": "23ef2fa5-ddec-49e0-85f7-8907581a73c1",
   "metadata": {},
   "outputs": [],
   "source": [
    "save_dir = (\n",
    "    '/Users/greg/Dropbox (HMS)/Baker_QC_2021/script_output/' +\n",
    "    'overseg_artifact'\n",
    "    )\n",
    "if not os.path.exists(save_dir):\n",
    "    os.makedirs(save_dir)\n",
    "\n",
    "# crop coordinates\n",
    "ymin = 1730\n",
    "ymax = 1930\n",
    "xmin = 1115\n",
    "xmax = 1315"
   ]
  },
  {
   "cell_type": "code",
   "execution_count": 4,
   "id": "aab0b7b4-0860-4815-a46f-f36baff67ea7",
   "metadata": {},
   "outputs": [
    {
     "name": "stderr",
     "output_type": "stream",
     "text": [
      "/Users/greg/cylinter/lib/python3.8/site-packages/napari/_vispy/vispy_camera.py:109: RuntimeWarning: divide by zero encountered in true_divide\n",
      "  zoom = np.min(canvas_size / scale)\n"
     ]
    }
   ],
   "source": [
    "# read cycle1 DNA for selected tissue and crop to target size\n",
    "dna = imread(\n",
    "    f'/Volumes/My Book/cylinter_input/emit22_full/tif/{core}.ome.tif',\n",
    "    key=0\n",
    "    )\n",
    "dna_crop = dna[ymin:ymax, xmin:xmax]\n",
    "\n",
    "# read segmentation outlines\n",
    "seg = imread(\n",
    "    f'/Volumes/My Book/cylinter_input/emit22_full/seg/{core}.ome.tif',\n",
    "    key=0\n",
    "    )\n",
    "seg_crop = seg[ymin:ymax, xmin:xmax]\n",
    "\n",
    "\n",
    "viewer = napari.view_image(\n",
    "    dna, rgb=False, name='DNA1'\n",
    "    )\n",
    "\n",
    "viewer.add_image(\n",
    "    seg, rgb=False, blending='additive',\n",
    "    opacity=0.5, colormap='gray', visible=False,\n",
    "    name='segmentation'\n",
    "    )\n",
    "\n",
    "napari.run()\n",
    "\n",
    "file = open(os.path.join(save_dir, 'check_desktop.txt'), 'w')\n",
    "file.write('Check for screen shot on desktop.')\n",
    "file.close()"
   ]
  }
 ],
 "metadata": {
  "kernelspec": {
   "display_name": "Python 3 (ipykernel)",
   "language": "python",
   "name": "python3"
  },
  "language_info": {
   "codemirror_mode": {
    "name": "ipython",
    "version": 3
   },
   "file_extension": ".py",
   "mimetype": "text/x-python",
   "name": "python",
   "nbconvert_exporter": "python",
   "pygments_lexer": "ipython3",
   "version": "3.9.10"
  }
 },
 "nbformat": 4,
 "nbformat_minor": 5
}

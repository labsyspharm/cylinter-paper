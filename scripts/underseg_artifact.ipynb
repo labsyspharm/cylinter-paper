{
 "cells": [
  {
   "cell_type": "code",
   "execution_count": 1,
   "id": "25c01a80-94dd-484d-a675-60fb830b8425",
   "metadata": {},
   "outputs": [],
   "source": [
    "import os\n",
    "import napari\n",
    "import tifffile\n",
    "import zarr\n",
    "import pandas as pd\n",
    "import dask.array as da"
   ]
  },
  {
   "cell_type": "code",
   "execution_count": 2,
   "id": "587b8072-b5d9-4ecb-a01c-61012cbd4b75",
   "metadata": {},
   "outputs": [],
   "source": [
    "def single_channel_pyramid(tiff_path, channel):\n",
    "\n",
    "    target_filepath = tiff_path\n",
    "    tiff = tifffile.TiffFile(target_filepath, is_ome=False)\n",
    "\n",
    "    pyramid = [\n",
    "        zarr.open(s[channel].aszarr())\n",
    "        for s in tiff.series[0].levels\n",
    "        ]\n",
    "\n",
    "    pyramid = [\n",
    "        da.from_zarr(z)\n",
    "        for z in pyramid\n",
    "        ]\n",
    "\n",
    "    return pyramid"
   ]
  },
  {
   "cell_type": "code",
   "execution_count": 3,
   "id": "9f13a25f-20b6-4208-9916-c3de75f3a723",
   "metadata": {},
   "outputs": [],
   "source": [
    "core = '17'"
   ]
  },
  {
   "cell_type": "code",
   "execution_count": null,
   "id": "bbd24938-515e-4fda-942e-0937f80ee32a",
   "metadata": {},
   "outputs": [],
   "source": [
    "save_dir = '/Users/greg/Dropbox (HMS)/Baker_QC_2021/script_output/underseg_artifact'\n",
    "if not os.path.exists(save_dir):\n",
    "    os.makedirs(save_dir)\n",
    "\n",
    "data = pd.read_parquet(\n",
    "    '/Volumes/My Book/cylinter_input/emit22_full/' +\n",
    "    'output/checkpoints/intensityFilter.parquet')\n",
    "\n",
    "sample_data = data[data['Sample'] == core]\n",
    "centroids = sample_data[['Y_centroid', 'X_centroid']][\n",
    "    (sample_data['Area'] > 400)\n",
    "    ]\n",
    "\n",
    "# read cycle1 DNA for selected tissue and crop to target size\n",
    "dna = single_channel_pyramid(\n",
    "    f'/Volumes/My Book/cylinter_input/emit22_full/tif/{core}.ome.tif',\n",
    "    channel=0\n",
    "    )\n",
    "\n",
    "# read segmentation outlines\n",
    "seg = single_channel_pyramid(\n",
    "    f'/Volumes/My Book/cylinter_input/emit22_full/seg/{core}.ome.tif',\n",
    "    channel=0\n",
    "    )\n",
    "\n",
    "viewer = napari.view_image(\n",
    "    dna, rgb=False, name='DNA1'\n",
    "    )\n",
    "\n",
    "viewer.add_image(\n",
    "    seg, rgb=False, blending='additive',\n",
    "    opacity=0.5, colormap='green', visible=False,\n",
    "    name='segmentation'\n",
    "    )\n",
    "\n",
    "viewer.add_points(\n",
    "    centroids, name='DNA area',\n",
    "    face_color='white',\n",
    "    edge_color='k',\n",
    "    edge_width=0.0, size=1.0\n",
    "    )\n",
    "\n",
    "napari.run()\n",
    "\n",
    "file = open(os.path.join(save_dir, 'check_desktop.txt'), 'w')\n",
    "file.write('Check for screen shot on desktop.')\n",
    "file.close()"
   ]
  }
 ],
 "metadata": {
  "kernelspec": {
   "display_name": "Python 3 (ipykernel)",
   "language": "python",
   "name": "python3"
  },
  "language_info": {
   "codemirror_mode": {
    "name": "ipython",
    "version": 3
   },
   "file_extension": ".py",
   "mimetype": "text/x-python",
   "name": "python",
   "nbconvert_exporter": "python",
   "pygments_lexer": "ipython3",
   "version": "3.9.10"
  }
 },
 "nbformat": 4,
 "nbformat_minor": 5
}

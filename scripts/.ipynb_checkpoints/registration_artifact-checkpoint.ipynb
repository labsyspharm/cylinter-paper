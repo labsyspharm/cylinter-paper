{
 "cells": [
  {
   "cell_type": "code",
   "execution_count": 1,
   "id": "51eb87e7-8723-4816-9eda-2c5c370464b5",
   "metadata": {},
   "outputs": [],
   "source": [
    "import os\n",
    "import pandas as pd\n",
    "import napari\n",
    "from tifffile import imread\n",
    "# import pygetwindow\n",
    "# import pyautogui\n",
    "# from PIL import Image"
   ]
  },
  {
   "cell_type": "code",
   "execution_count": 2,
   "id": "3e46aa96-095f-4912-adf1-21c774ec73ae",
   "metadata": {},
   "outputs": [],
   "source": [
    "core = '64'\n",
    "dna1 = f'DNA1:{core}'"
   ]
  },
  {
   "cell_type": "code",
   "execution_count": 3,
   "id": "9bec1225-2f6d-4de7-970e-d5681c1572c9",
   "metadata": {},
   "outputs": [
    {
     "name": "stderr",
     "output_type": "stream",
     "text": [
      "/Users/greg/cylinter/lib/python3.8/site-packages/napari/_vispy/vispy_camera.py:109: RuntimeWarning: divide by zero encountered in true_divide\n",
      "  zoom = np.min(canvas_size / scale)\n"
     ]
    }
   ],
   "source": [
    "save_dir = (\n",
    "    '/Users/greg/Dropbox (HMS)/Baker_QC_2021/script_output/' +\n",
    "    'alignment_artifact'\n",
    "    )\n",
    "if not os.path.exists(save_dir):\n",
    "    os.makedirs(save_dir)\n",
    "\n",
    "markers = pd.read_csv(\n",
    "    '/Volumes/My Book/cylinter_input/emit22_full/markers.csv'\n",
    "    )\n",
    "\n",
    "# read DNA1 channel\n",
    "dna = imread(\n",
    "    f'/Volumes/My Book/cylinter_input/emit22_full/tif/{core}.ome.tif',\n",
    "    key=0\n",
    "    )\n",
    "\n",
    "pcreb_channel_number = markers['channel_number'][\n",
    "            markers['marker_name'] == 'pCREB']\n",
    "pcreb = imread(\n",
    "    f'/Volumes/My Book/cylinter_input/emit22_full/tif/{core}.ome.tif',\n",
    "    key=pcreb_channel_number.item() - 1\n",
    "    )\n",
    "\n",
    "ccnb1_channel_number = markers['channel_number'][\n",
    "            markers['marker_name'] == 'CCNB1']\n",
    "ccnb1 = imread(\n",
    "    f'/Volumes/My Book/cylinter_input/emit22_full/tif/{core}.ome.tif',\n",
    "    key=ccnb1_channel_number.item() - 1\n",
    "    )\n",
    "\n",
    "ccne_channel_number = markers['channel_number'][\n",
    "            markers['marker_name'] == 'CCNE']\n",
    "ccne = imread(\n",
    "    f'/Volumes/My Book/cylinter_input/emit22_full/tif/{core}.ome.tif',\n",
    "    key=ccne_channel_number.item() - 1\n",
    "    )\n",
    "\n",
    "# read segmentation outlines\n",
    "seg = imread(\n",
    "    f'/Volumes/My Book/cylinter_input/emit22_full/seg/{core}.ome.tif',\n",
    "    key=0\n",
    "    )\n",
    "\n",
    "\n",
    "viewer = napari.view_image(\n",
    "    dna, rgb=False, name=dna1\n",
    "    )\n",
    "\n",
    "viewer.add_image(\n",
    "    seg, rgb=False, blending='additive',\n",
    "    opacity=0.5, colormap='red', visible=False,\n",
    "    name='segmentation'\n",
    "    )\n",
    "\n",
    "viewer.add_image(\n",
    "    pcreb, rgb=False, blending='additive',\n",
    "    opacity=1.0, colormap='green', visible=False,\n",
    "    name='pCREB'\n",
    "    )\n",
    "\n",
    "viewer.add_image(\n",
    "    ccnb1, rgb=False, blending='additive',\n",
    "    opacity=1.0, colormap='green', visible=False,\n",
    "    name='CCNB1'\n",
    "    )\n",
    "\n",
    "viewer.add_image(\n",
    "    ccne, rgb=False, blending='additive',\n",
    "    opacity=1.0, colormap='green', visible=False,\n",
    "    name='CCNE'\n",
    "    )\n",
    "\n",
    "napari.run()\n",
    "\n",
    "file = open(os.path.join(save_dir, 'check_desktop.txt'), 'w')\n",
    "file.write('Check for screen shot on desktop.')\n",
    "file.close()"
   ]
  }
 ],
 "metadata": {
  "kernelspec": {
   "display_name": "Python 3 (ipykernel)",
   "language": "python",
   "name": "python3"
  },
  "language_info": {
   "codemirror_mode": {
    "name": "ipython",
    "version": 3
   },
   "file_extension": ".py",
   "mimetype": "text/x-python",
   "name": "python",
   "nbconvert_exporter": "python",
   "pygments_lexer": "ipython3",
   "version": "3.8.5"
  }
 },
 "nbformat": 4,
 "nbformat_minor": 5
}

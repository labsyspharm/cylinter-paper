{
 "cells": [
  {
   "cell_type": "code",
   "execution_count": 1,
   "id": "6edf63be-c664-4345-960e-8910843840e8",
   "metadata": {},
   "outputs": [],
   "source": [
    "import os\n",
    "import napari\n",
    "import tifffile\n",
    "import zarr\n",
    "import pandas as pd\n",
    "import dask.array as da"
   ]
  },
  {
   "cell_type": "code",
   "execution_count": 2,
   "id": "6fdf18d8-ed04-4114-b918-e5085a5f824c",
   "metadata": {},
   "outputs": [],
   "source": [
    "def single_channel_pyramid(tiff_path, channel):\n",
    "\n",
    "    target_filepath = tiff_path\n",
    "    tiff = tifffile.TiffFile(target_filepath, is_ome=False)\n",
    "\n",
    "    pyramid = [\n",
    "        zarr.open(s[channel].aszarr())\n",
    "        for s in tiff.series[0].levels\n",
    "        ]\n",
    "\n",
    "    pyramid = [\n",
    "        da.from_zarr(z)\n",
    "        for z in pyramid\n",
    "        ]\n",
    "\n",
    "    return pyramid"
   ]
  },
  {
   "cell_type": "code",
   "execution_count": 3,
   "id": "869d2bb8-59cd-4360-a45c-575159b63ecd",
   "metadata": {},
   "outputs": [],
   "source": [
    "tissue = '840031_0055'"
   ]
  },
  {
   "cell_type": "code",
   "execution_count": 4,
   "id": "9d4a7b18-b9d4-47ad-94de-7a0494a4f115",
   "metadata": {},
   "outputs": [
    {
     "name": "stdout",
     "output_type": "stream",
     "text": [
      "           Y_centroid    X_centroid\n",
      "3485647   9252.377320  19953.678351\n",
      "3488492   9388.141049  20481.976492\n",
      "3490529   9489.819473  20378.210953\n",
      "3491244   9531.569767  20349.376744\n",
      "3492767   9605.898263  20772.282878\n",
      "...               ...           ...\n",
      "3729711  18502.019139  10741.339713\n",
      "3729759  18509.106572  22917.239787\n",
      "3729868  18514.720183  22789.169725\n",
      "3730315  18540.834951  22869.958738\n",
      "3730595  18556.403419  21513.605128\n",
      "\n",
      "[2111 rows x 2 columns]\n"
     ]
    },
    {
     "name": "stderr",
     "output_type": "stream",
     "text": [
      "/Users/greg/cylinter/lib/python3.8/site-packages/napari/_vispy/vispy_camera.py:109: RuntimeWarning: divide by zero encountered in true_divide\n",
      "  zoom = np.min(canvas_size / scale)\n"
     ]
    }
   ],
   "source": [
    "save_dir = (\n",
    "    '/Users/greg/Dropbox (HMS)/Baker_QC_2021/script_output/' +\n",
    "    'seg_model_artifact'\n",
    "    )\n",
    "if not os.path.exists(save_dir):\n",
    "    os.makedirs(save_dir)\n",
    "\n",
    "data = pd.read_parquet(\n",
    "    '/Users/greg/Dropbox (HMS)/topacio/cylinter_output/' +\n",
    "    'round9_mcupdate_cellRing/checkpoints/intensityFilter.parquet')\n",
    "\n",
    "sample_data = data[data['Sample'] == tissue]\n",
    "centroids = sample_data[['Y_centroid', 'X_centroid']][\n",
    "    (sample_data['Area'] > 400)\n",
    "    ]\n",
    "print(centroids)\n",
    "# read cycle1 DNA for selected tissue and crop to target size\n",
    "dna = single_channel_pyramid(\n",
    "    '/Volumes/My Book/cylinter_input/topacio_mcupdated_cellring/' +\n",
    "    f'tif/{tissue}.ome.tif', channel=4) # segmentation appears to have been performed on second cycle of sample 0055\n",
    "\n",
    "# read segmentation outlines\n",
    "seg = single_channel_pyramid(\n",
    "    f'/Volumes/My Book/cylinter_input/topacio_mcupdated_cellring/' +\n",
    "    f'seg/{tissue}.ome.tif', channel=0)\n",
    "\n",
    "viewer = napari.view_image(\n",
    "    dna, rgb=False, name='DNA1'\n",
    "    )\n",
    "\n",
    "viewer.add_image(\n",
    "    seg, rgb=False, blending='additive',\n",
    "    opacity=0.5, colormap='green', visible=False,\n",
    "    name='segmentation'\n",
    "    )\n",
    "\n",
    "viewer.add_points(\n",
    "    centroids, name='DNA area',\n",
    "    face_color='white',\n",
    "    edge_color='k',\n",
    "    edge_width=0.0, size=1.0\n",
    "    )\n",
    "\n",
    "napari.run()\n",
    "\n",
    "file = open(os.path.join(save_dir, 'check_desktop.txt'), 'w')\n",
    "file.write('Check for screen shot on desktop.')\n",
    "file.close()"
   ]
  }
 ],
 "metadata": {
  "kernelspec": {
   "display_name": "Python 3 (ipykernel)",
   "language": "python",
   "name": "python3"
  },
  "language_info": {
   "codemirror_mode": {
    "name": "ipython",
    "version": 3
   },
   "file_extension": ".py",
   "mimetype": "text/x-python",
   "name": "python",
   "nbconvert_exporter": "python",
   "pygments_lexer": "ipython3",
   "version": "3.8.5"
  }
 },
 "nbformat": 4,
 "nbformat_minor": 5
}

{
 "cells": [
  {
   "cell_type": "code",
   "execution_count": 1,
   "id": "cd11cf5e-ea3c-4f0c-865b-8d538f31f57b",
   "metadata": {},
   "outputs": [],
   "source": [
    "import os\n",
    "import pandas as pd\n",
    "import seaborn as sns\n",
    "import numpy as np\n",
    "import matplotlib.pyplot as plt\n",
    "import matplotlib.ticker as ticker\n",
    "import matplotlib.patches as patches\n",
    "from tifffile import imread\n",
    "from skimage.util.dtype import img_as_float\n",
    "from skimage.color import gray2rgb"
   ]
  },
  {
   "cell_type": "code",
   "execution_count": 2,
   "id": "0d890ca3-63f9-41e9-8360-32807f0f92f3",
   "metadata": {},
   "outputs": [],
   "source": [
    "tissue = '840063_0110'\n",
    "vmin = 700\n",
    "vmax = 65535"
   ]
  },
  {
   "cell_type": "code",
   "execution_count": 3,
   "id": "ee721b30-bcd0-4922-a7b0-2ef9dd05d0fe",
   "metadata": {},
   "outputs": [],
   "source": [
    "def fmt(x, pos):\n",
    "    a, b = '{:.1e}'.format(x).split('e')\n",
    "    b = int(b)\n",
    "    return r'${} \\times 10^{{{}}}$'.format(a, b)"
   ]
  },
  {
   "cell_type": "code",
   "execution_count": 4,
   "id": "824153cf-56e4-42e3-bb7a-5c8ceab82301",
   "metadata": {},
   "outputs": [],
   "source": [
    "save_dir = '/Users/greg/Dropbox (HMS)/Baker_QC_2021/script_output/bright_nuclei'\n",
    "if not os.path.exists(save_dir):\n",
    "    os.makedirs(save_dir)\n",
    "\n",
    "data = pd.read_parquet(\n",
    "    '/Users/greg/Dropbox (HMS)/topacio/cylinter_output/TOPACIO_FINAL/' +\n",
    "    'output_orig/checkpoints/aggregateData.parquet')\n",
    "\n",
    "dna = imread(f'/Volumes/My Book/cylinter_input/TOPACIO_FINAL/tif/{tissue}.ome.tif', key=0)\n",
    "seg = imread(f'/Volumes/My Book/cylinter_input/TOPACIO_FINAL/seg/{tissue}.ome.tif', key=0)\n",
    "\n",
    "# crop small\n",
    "ymin_s = 12700\n",
    "ymax_s = 12850\n",
    "xmin_s = 18275\n",
    "xmax_s = 18425\n",
    "\n",
    "dna_crop_s = dna[ymin_s:ymax_s, xmin_s:xmax_s]\n",
    "seg_crop_s = seg[ymin_s:ymax_s, xmin_s:xmax_s]\n",
    "\n",
    "# isolate data for cells within small crop bounds\n",
    "data_crop_s = data[['Y_centroid', 'X_centroid', 'DNA0']][\n",
    "    (data['Sample'] == tissue) &\n",
    "    (data['X_centroid'].between(xmin_s, xmax_s, inclusive='both')) &\n",
    "    (data['Y_centroid'].between(ymin_s, ymax_s, inclusive='both'))\n",
    "    ]"
   ]
  },
  {
   "cell_type": "code",
   "execution_count": 5,
   "id": "9f7c5697-cf95-4a17-9c27-9751a872721b",
   "metadata": {},
   "outputs": [
    {
     "data": {
      "image/png": "[encoded data removed]",
      "text/plain": [
       "<Figure size 432x288 with 1 Axes>"
      ]
     },
     "metadata": {},
     "output_type": "display_data"
    }
   ],
   "source": [
    "# crop large\n",
    "ymin_l = 12700\n",
    "ymax_l = 13250\n",
    "xmin_l = 17950\n",
    "xmax_l = 18625\n",
    "dna_crop_l = dna[ymin_l:ymax_l, xmin_l:xmax_l]\n",
    "\n",
    "# isolate data for cells within large crop bounds\n",
    "data_crop_l = data[['Y_centroid', 'X_centroid', 'DNA0']][\n",
    "    (data['Sample'] == tissue) &\n",
    "    (data['X_centroid'].between(xmin_l, xmax_l, inclusive='both')) &\n",
    "    (data['Y_centroid'].between(ymin_l, ymax_l, inclusive='both'))\n",
    "    ]\n",
    "\n",
    "gate = (10.87, np.log(data_crop_l['DNA0']).max())\n",
    "\n",
    "sns.set_style('whitegrid')\n",
    "plt.hist(np.log(data_crop_l['DNA0']), bins=25, color='k', density=True, histtype='step', lw=3.0)\n",
    "plt.axvline(gate[0], c='tab:red', lw=3.0)\n",
    "plt.title(f'Sample {tissue}')\n",
    "plt.xlabel('log10(DNA1)')\n",
    "plt.ylabel('cell count')\n",
    "plt.savefig(os.path.join(save_dir, 'gated_hist.pdf'))\n",
    "plt.show()\n",
    "plt.close('all')"
   ]
  },
  {
   "cell_type": "code",
   "execution_count": 6,
   "id": "eb641be5-5e3d-4fc5-8461-177d7a8b735d",
   "metadata": {},
   "outputs": [
    {
     "ename": "NameError",
     "evalue": "name 'data_crop_s' is not defined",
     "output_type": "error",
     "traceback": [
      "\u001b[0;31m---------------------------------------------------------------------------\u001b[0m",
      "\u001b[0;31mNameError\u001b[0m                                 Traceback (most recent call last)",
      "Input \u001b[0;32mIn [6]\u001b[0m, in \u001b[0;36m<cell line: 20>\u001b[0;34m()\u001b[0m\n\u001b[1;32m     17\u001b[0m seg_crop_rgb \u001b[38;5;241m/\u001b[39m\u001b[38;5;241m=\u001b[39m \u001b[38;5;241m1.5\u001b[39m\n\u001b[1;32m     18\u001b[0m blank \u001b[38;5;241m+\u001b[39m\u001b[38;5;241m=\u001b[39m seg_crop_rgb\n\u001b[0;32m---> 20\u001b[0m gated_centroids \u001b[38;5;241m=\u001b[39m \u001b[43mdata_crop_s\u001b[49m[[\u001b[38;5;124m'\u001b[39m\u001b[38;5;124mY_centroid\u001b[39m\u001b[38;5;124m'\u001b[39m, \u001b[38;5;124m'\u001b[39m\u001b[38;5;124mX_centroid\u001b[39m\u001b[38;5;124m'\u001b[39m]][\n\u001b[1;32m     21\u001b[0m     (np\u001b[38;5;241m.\u001b[39mlog(data_crop_s[\u001b[38;5;124m'\u001b[39m\u001b[38;5;124mDNA0\u001b[39m\u001b[38;5;124m'\u001b[39m])\u001b[38;5;241m.\u001b[39mbetween(gate[\u001b[38;5;241m0\u001b[39m], gate[\u001b[38;5;241m1\u001b[39m], inclusive\u001b[38;5;241m=\u001b[39m\u001b[38;5;124m'\u001b[39m\u001b[38;5;124mboth\u001b[39m\u001b[38;5;124m'\u001b[39m))\n\u001b[1;32m     22\u001b[0m     ]\n\u001b[1;32m     24\u001b[0m \u001b[38;5;66;03m# transform x, y coordinates of gated cells within ROI bounds\u001b[39;00m\n\u001b[1;32m     25\u001b[0m gated_centroids[\u001b[38;5;124m'\u001b[39m\u001b[38;5;124mX_centroid\u001b[39m\u001b[38;5;124m'\u001b[39m] \u001b[38;5;241m=\u001b[39m data_crop_s[\u001b[38;5;124m'\u001b[39m\u001b[38;5;124mX_centroid\u001b[39m\u001b[38;5;124m'\u001b[39m]\u001b[38;5;241m-\u001b[39mxmin\n",
      "\u001b[0;31mNameError\u001b[0m: name 'data_crop_s' is not defined"
     ]
    }
   ],
   "source": [
    "# plot image\n",
    "blank = np.zeros((dna_crop_s.shape[0], dna_crop_s.shape[1]))\n",
    "blank = gray2rgb(blank)\n",
    "\n",
    "dna_crop_s = img_as_float(dna_crop_s)\n",
    "dna_crop_s = np.clip(dna_crop_s, 0, dna_crop.max())\n",
    "dna_crop_s = (dna_crop_s - np.min(dna_crop_s))/np.ptp(dna_crop_s)\n",
    "\n",
    "dna_crop_s_rgb = plt.cm.magma(dna_crop_s) # converts to RGBA automatically\n",
    "dna_crop_s_rgb = dna_crop_s_rgb[:, :, 0:3]  # drop alpha dimension\n",
    "dna_crop_s_rgb /= 1.5\n",
    "blank += dna_crop_s_rgb\n",
    "\n",
    "seg_crop_s = img_as_float(seg_crop_s)\n",
    "seg_crop_s_rgb = gray2rgb(seg_crop_s)\n",
    "seg_crop_s_rgb = seg_crop_s_rgb * (0.5, 0.5, 0.5)\n",
    "seg_crop_s_rgb /= 1.5\n",
    "blank += seg_crop_s_rgb\n",
    "\n",
    "gated_centroids = data_crop_s[['Y_centroid', 'X_centroid']][\n",
    "    (np.log(data_crop_s['DNA0']).between(gate[0], gate[1], inclusive='both'))\n",
    "    ]\n",
    "\n",
    "# transform x, y coordinates of gated cells within ROI bounds\n",
    "gated_centroids['X_centroid'] = data_crop_s['X_centroid']-xmin\n",
    "gated_centroids['Y_centroid'] = data_crop_s['Y_centroid']-ymin\n",
    "\n",
    "plt.imshow(blank, cmap='magma')\n",
    "plt.grid(False)\n",
    "cbar = plt.colorbar()\n",
    "# cbar = plt.colorbar(format=ticker.FuncFormatter(fmt))\n",
    "cbar.set_alpha(1.0)\n",
    "cbar.set_label('Hoechst per cell', labelpad=20, rotation=270)\n",
    "cbar.draw_all()\n",
    "\n",
    "# overlay cell centorids\n",
    "plt.scatter(\n",
    "    gated_centroids['X_centroid'],\n",
    "    gated_centroids['Y_centroid'], s=4.5, lw=0.0, color='lime'\n",
    "    )\n",
    "plt.title(f'Sample {tissue}')\n",
    "plt.savefig(os.path.join(save_dir, 'bright_nuclei.png'), dpi=1000)\n",
    "\n",
    "# save as a pdf, too\n",
    "plt.savefig(os.path.join(save_dir, 'bright_nuclei.pdf'))\n",
    "plt.show()\n",
    "plt.close('all')"
   ]
  }
 ],
 "metadata": {
  "kernelspec": {
   "display_name": "Python 3 (ipykernel)",
   "language": "python",
   "name": "python3"
  },
  "language_info": {
   "codemirror_mode": {
    "name": "ipython",
    "version": 3
   },
   "file_extension": ".py",
   "mimetype": "text/x-python",
   "name": "python",
   "nbconvert_exporter": "python",
   "pygments_lexer": "ipython3",
   "version": "3.9.10"
  }
 },
 "nbformat": 4,
 "nbformat_minor": 5
}
